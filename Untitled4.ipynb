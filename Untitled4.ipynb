{
 "cells": [
  {
   "cell_type": "code",
   "execution_count": 1,
   "id": "80aec2c3",
   "metadata": {},
   "outputs": [],
   "source": [
    "import numpy as np\n",
    "import os,math,sys\n",
    "from sklearn.decomposition import PCA\n",
    "from sklearn.decomposition import LatentDirichletAllocation as Lda\n",
    "from sklearn.decomposition import NMF,TruncatedSVD\n",
    "import pandas as pd\n",
    "from sklearn.preprocessing import StandardScaler\n",
    "from PIL import Image\n",
    "from argparse import ArgumentParser\n",
    "from math import *\n",
    "import csv"
   ]
  },
  {
   "cell_type": "code",
   "execution_count": 2,
   "id": "e67cfc48",
   "metadata": {},
   "outputs": [],
   "source": [
    "#PCA\n",
    "def pca(pca_matrix,k):\n",
    "    sc = StandardScaler()\n",
    "    matrix = sc.fit_transform(pca_matrix)\n",
    "    pca = PCA(n_components=k)\n",
    "    # fit on data\n",
    "    u = pca.fit_transform(matrix)\n",
    "    s = pca.explained_variance_\n",
    "    vt = pca.components_\n",
    "    return {'u': u, 's': s, 'vt': vt}"
   ]
  },
  {
   "cell_type": "code",
   "execution_count": 3,
   "id": "89c71b15",
   "metadata": {},
   "outputs": [],
   "source": [
    "#SVD\n",
    "def svd(svd_matrix,k):\n",
    "    u, s, vt = np.linalg.svd(svd_matrix, full_matrices=True)\n",
    "    return {'u': u[:,:k], 's': s, 'vt': vt[:k]}"
   ]
  },
  {
   "cell_type": "code",
   "execution_count": 4,
   "id": "4849f414",
   "metadata": {},
   "outputs": [],
   "source": [
    "#NMF\n",
    "def nmf(nmf_matrix,k):\n",
    "    sc = StandardScaler()\n",
    "    matrix = sc.fit_transform(nmf_matrix)\n",
    "    model = NMF(n_components=k, init='random', random_state=0)\n",
    "    min_val = matrix.min()\n",
    "    if min_val < 0:\n",
    "        matrix = matrix - min_val\n",
    "    u = model.fit_transform(matrix)\n",
    "    vt = model.components_\n",
    "    return {'u': u, 's': 'None', 'vt': vt}"
   ]
  },
  {
   "cell_type": "code",
   "execution_count": 5,
   "id": "38a24150",
   "metadata": {},
   "outputs": [],
   "source": [
    "#LDA\n",
    "def lda(lda_matrix,k):\n",
    "    sc = StandardScaler()\n",
    "    matrix = sc.fit_transform(lda_matrix)\n",
    "    x = Lda(n_components=k)\n",
    "    min_val = matrix.min()\n",
    "    if min_val < 0:\n",
    "        matrix = matrix - min_val\n",
    "    u = x.fit_transform(matrix)\n",
    "    vt = x.components_\n",
    "    return {'u': u, 's': 'None','vt': vt[:k]}"
   ]
  },
  {
   "cell_type": "code",
   "execution_count": 6,
   "id": "571b303c",
   "metadata": {},
   "outputs": [],
   "source": [
    "def task1(model,technique,dimension,folder_path,label_list):\n",
    "    # Gets the Latent semantics for the Feature Descriptor from the Phase1\n",
    "    csv_file = model.lower() + '.csv'\n",
    "    if not os.path.exists(csv_file):\n",
    "        exec(\"%s.%s('%s')\"%(\"phase1\",model.lower(),folder_path))\n",
    "    df = pd.read_csv(csv_file, sep=',', header=None)\n",
    "    if not label_list==[]:\n",
    "        df = df.loc[df[0].isin(label_list)]\n",
    "    x=(\"%s(%s,%d)\"%(technique.lower(),\"df.values[:,1:].astype(float)\",dimension))\n",
    "    technique_result=eval(x)\n",
    "    return technique_result"
   ]
  },
  {
   "cell_type": "code",
   "execution_count": null,
   "id": "5dc57750",
   "metadata": {},
   "outputs": [],
   "source": []
  }
 ],
 "metadata": {
  "kernelspec": {
   "display_name": "Python 3",
   "language": "python",
   "name": "python3"
  },
  "language_info": {
   "codemirror_mode": {
    "name": "ipython",
    "version": 3
   },
   "file_extension": ".py",
   "mimetype": "text/x-python",
   "name": "python",
   "nbconvert_exporter": "python",
   "pygments_lexer": "ipython3",
   "version": "3.8.8"
  }
 },
 "nbformat": 4,
 "nbformat_minor": 5
}
